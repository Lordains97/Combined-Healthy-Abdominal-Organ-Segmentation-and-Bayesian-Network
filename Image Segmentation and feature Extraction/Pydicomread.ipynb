{
 "cells": [
  {
   "cell_type": "markdown",
   "metadata": {},
   "source": [
    "# Importing necessary packages"
   ]
  },
  {
   "cell_type": "code",
   "execution_count": 1,
   "metadata": {},
   "outputs": [
    {
     "data": {
      "text/html": [
       "        <script type=\"text/javascript\">\n",
       "        window.PlotlyConfig = {MathJaxConfig: 'local'};\n",
       "        if (window.MathJax) {MathJax.Hub.Config({SVG: {font: \"STIX-Web\"}});}\n",
       "        if (typeof require !== 'undefined') {\n",
       "        require.undef(\"plotly\");\n",
       "        requirejs.config({\n",
       "            paths: {\n",
       "                'plotly': ['https://cdn.plot.ly/plotly-latest.min']\n",
       "            }\n",
       "        });\n",
       "        require(['plotly'], function(Plotly) {\n",
       "            window._Plotly = Plotly;\n",
       "        });\n",
       "        }\n",
       "        </script>\n",
       "        "
      ]
     },
     "metadata": {},
     "output_type": "display_data"
    }
   ],
   "source": [
    "import numpy as np\n",
    "import pydicom\n",
    "import os\n",
    "import matplotlib.pyplot as plt\n",
    "from glob import glob\n",
    "from mpl_toolkits.mplot3d.art3d import Poly3DCollection\n",
    "import scipy.ndimage\n",
    "from skimage import morphology\n",
    "from skimage import measure\n",
    "from skimage.transform import resize\n",
    "from sklearn.cluster import KMeans\n",
    "from plotly import __version__\n",
    "from plotly.offline import download_plotlyjs, init_notebook_mode, plot, iplot\n",
    "from plotly.tools import FigureFactory as FF\n",
    "from plotly.graph_objs import *\n",
    "init_notebook_mode(connected=True) \n",
    "import matplotlib.pyplot as plt\n",
    "import numpy as np\n",
    "from sklearn.model_selection import train_test_split\n",
    "from skimage.io import imread\n",
    "from skimage.transform import pyramid_reduce, resize\n",
    "\n",
    "# import os, glob"
   ]
  },
  {
   "cell_type": "markdown",
   "metadata": {},
   "source": [
    "**This is to read all the dicom files from the folder**"
   ]
  },
  {
   "cell_type": "code",
   "execution_count": 2,
   "metadata": {},
   "outputs": [
    {
     "name": "stdout",
     "output_type": "stream",
     "text": [
      "Total of 647 DICOM images.\n",
      "First 5 filenames:\n",
      "E:/PGM/CHAOS_Train_Sets(1)/Train_Sets/MR//1/T1DUAL/DICOM_anon/InPhase\\IMG-0004-00002.dcm\n",
      "E:/PGM/CHAOS_Train_Sets(1)/Train_Sets/MR//1/T1DUAL/DICOM_anon/InPhase\\IMG-0004-00004.dcm\n",
      "E:/PGM/CHAOS_Train_Sets(1)/Train_Sets/MR//1/T1DUAL/DICOM_anon/InPhase\\IMG-0004-00006.dcm\n",
      "E:/PGM/CHAOS_Train_Sets(1)/Train_Sets/MR//1/T1DUAL/DICOM_anon/InPhase\\IMG-0004-00008.dcm\n",
      "E:/PGM/CHAOS_Train_Sets(1)/Train_Sets/MR//1/T1DUAL/DICOM_anon/InPhase\\IMG-0004-00010.dcm\n"
     ]
    }
   ],
   "source": [
    "data_path = \"E:/PGM/CHAOS_Train_Sets(1)/Train_Sets/MR/\"\n",
    "output_path = working_path = \"E:/MR/\"\n",
    "g = []\n",
    "for i in range(1,40):\n",
    "    file  = glob(data_path +'/'+ str(i) + '/T1DUAL/DICOM_anon/InPhase/*.dcm')\n",
    "    for j in file:\n",
    "        g.append(j)\n",
    "# print(g)\n",
    "# Print out the first 5 file names to verify we're in the right folder.\n",
    "print (\"Total of %d DICOM images.\\nFirst 5 filenames:\" % len(g))\n",
    "print ('\\n'.join(g[:5]))"
   ]
  },
  {
   "cell_type": "markdown",
   "metadata": {},
   "source": [
    "**Read all the ground Truth**"
   ]
  },
  {
   "cell_type": "code",
   "execution_count": 3,
   "metadata": {},
   "outputs": [
    {
     "name": "stdout",
     "output_type": "stream",
     "text": [
      "Total of 647 DICOM images.\n",
      "First 5 filenames:\n",
      "E:/PGM/CHAOS_Train_Sets(1)/Train_Sets/MR//1/T1DUAL/Ground\\IMG-0004-00002.png\n",
      "E:/PGM/CHAOS_Train_Sets(1)/Train_Sets/MR//1/T1DUAL/Ground\\IMG-0004-00004.png\n",
      "E:/PGM/CHAOS_Train_Sets(1)/Train_Sets/MR//1/T1DUAL/Ground\\IMG-0004-00006.png\n",
      "E:/PGM/CHAOS_Train_Sets(1)/Train_Sets/MR//1/T1DUAL/Ground\\IMG-0004-00008.png\n",
      "E:/PGM/CHAOS_Train_Sets(1)/Train_Sets/MR//1/T1DUAL/Ground\\IMG-0004-00010.png\n"
     ]
    }
   ],
   "source": [
    "data_path = \"E:/PGM/CHAOS_Train_Sets(1)/Train_Sets/MR/\"\n",
    "output_path1 = working_path = \"E:/ground\"\n",
    "gt=[]\n",
    "for i in range(1,40):\n",
    "    file  = glob(data_path +'/'+ str(i) + '/T1DUAL/Ground/*.png')\n",
    "    for j in file:\n",
    "        gt.append(j)\n",
    "# Print out the first 5 file names to verify we're in the right folder.\n",
    "print (\"Total of %d DICOM images.\\nFirst 5 filenames:\" % len(gt))\n",
    "print ('\\n'.join(gt[:5]))"
   ]
  },
  {
   "cell_type": "markdown",
   "metadata": {},
   "source": [
    "# Extracting pixel information from dicom file and viewing it "
   ]
  },
  {
   "cell_type": "code",
   "execution_count": 4,
   "metadata": {},
   "outputs": [
    {
     "data": {
      "text/plain": [
       "<matplotlib.image.AxesImage at 0x1cac97bf148>"
      ]
     },
     "execution_count": 4,
     "metadata": {},
     "output_type": "execute_result"
    },
    {
     "data": {
      "image/png": "[encoded data removed]",
      "text/plain": [
       "<Figure size 432x288 with 2 Axes>"
      ]
     },
     "metadata": {
      "needs_background": "light"
     },
     "output_type": "display_data"
    }
   ],
   "source": [
    "IMG_SIZE = 256\n",
    "\n",
    "x_data, y_data = np.empty((2, len(g), IMG_SIZE, IMG_SIZE, 1), dtype=np.float32)\n",
    "\n",
    "for i, img_path in enumerate(g):\n",
    "    out_dcm = pydicom.dcmread(img_path)\n",
    "    img = out_dcm.pixel_array\n",
    "#     img = imread(out_pix)\n",
    "    img = resize(img, output_shape=(IMG_SIZE, IMG_SIZE, 1), preserve_range=True)\n",
    "    x_data[i] = img\n",
    "    \n",
    "for i, img_path in enumerate(gt):\n",
    "    img = imread(img_path)\n",
    "    img = resize(img, output_shape=(IMG_SIZE, IMG_SIZE, 1), preserve_range=True)\n",
    "    y_data[i] = img\n",
    "    \n",
    "y_data /= 255.\n",
    "\n",
    "fig, ax = plt.subplots(1, 2)\n",
    "ax[0].imshow(x_data[12].squeeze(), cmap='gray')\n",
    "ax[1].imshow(y_data[12].squeeze(), cmap='gray')"
   ]
  },
  {
   "cell_type": "markdown",
   "metadata": {},
   "source": [
    "**Converting into numpy array and saving it to segment the organs from the original image** "
   ]
  },
  {
   "cell_type": "code",
   "execution_count": 12,
   "metadata": {},
   "outputs": [
    {
     "name": "stdout",
     "output_type": "stream",
     "text": [
      "(582, 256, 256, 1) (582, 256, 256, 1)\n",
      "(65, 256, 256, 1) (65, 256, 256, 1)\n"
     ]
    }
   ],
   "source": [
    "x_train, x_val, y_train, y_val = train_test_split(x_data, y_data, test_size=0.1)\n",
    "\n",
    "np.save('x_train.npy', x_train)\n",
    "np.save('y_train.npy', y_train)\n",
    "np.save('x_val.npy', x_val)\n",
    "np.save('y_val.npy', y_val)\n",
    "\n",
    "print(x_train.shape, y_train.shape)\n",
    "print(x_val.shape, y_val.shape)"
   ]
  },
  {
   "cell_type": "code",
   "execution_count": null,
   "metadata": {},
   "outputs": [],
   "source": []
  }
 ],
 "metadata": {
  "kernelspec": {
   "display_name": "Python 3",
   "language": "python",
   "name": "python3"
  },
  "language_info": {
   "codemirror_mode": {
    "name": "ipython",
    "version": 3
   },
   "file_extension": ".py",
   "mimetype": "text/x-python",
   "name": "python",
   "nbconvert_exporter": "python",
   "pygments_lexer": "ipython3",
   "version": "3.7.6"
  }
 },
 "nbformat": 4,
 "nbformat_minor": 4
}
